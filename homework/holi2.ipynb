{
 "cells": [
  {
   "cell_type": "code",
   "execution_count": 267,
   "metadata": {},
   "outputs": [],
   "source": [
    "\n",
    "import pandas as pd\n",
    "\n",
    "# Ruta al archivo de entrada\n",
    "file_path = \"../files/input/clusters_report.txt\"\n",
    "\n",
    "# Listas para almacenar los datos procesados\n",
    "clusters = []\n",
    "cantidad_palabras = []\n",
    "porcentajes = []\n",
    "palabras_clave = []\n",
    "\n",
    "# Abrir y procesar el archivo\n",
    "with open(file_path, 'r', encoding='utf-8') as file:\n",
    "    lines = file.readlines()\n",
    "\n",
    "# Procesar cada línea del archivo\n",
    "palabras_clave_temp = []\n",
    "for i, line in enumerate(lines):\n",
    "    # Omitir encabezados y separadores\n",
    "    if i < 4 or line.startswith('-'):\n",
    "        continue\n",
    "\n",
    "    try:\n",
    "        # Intentar convertir los primeros caracteres en un número\n",
    "        cluster_num = int(line.strip()[:3])\n",
    "        # Si tenemos palabras clave acumuladas, guardarlas antes de continuar\n",
    "        if palabras_clave_temp:\n",
    "            palabras_clave.append(\" \".join(palabras_clave_temp).strip())\n",
    "            palabras_clave_temp = []\n",
    "        \n",
    "        # Extraer datos del cluster actual\n",
    "        parts = lines[i].split()\n",
    "        clusters.append(int(parts[0]))\n",
    "        cantidad_palabras.append(int(parts[1]))\n",
    "        porcentajes.append(float(parts[2].replace(\",\",\".\")))\n",
    "        palabras_clave_temp.append((\" \".join(parts[4:])).replace(\"  \",\" \").strip())\n",
    "    except ValueError:\n",
    "        # Si no es un número, acumular palabras clave\n",
    "        palabras_clave_temp.append(line.strip())\n",
    "\n",
    "# Añadir las últimas palabras clave acumuladas\n",
    "if palabras_clave_temp:\n",
    "    palabras_clave.append(\" \".join(palabras_clave_temp).strip())\n",
    "\n",
    "# Verificar que todas las listas tengan la misma longitud\n",
    "##assert len(clusters) == len(cantidad_palabras) == len(porcentajes) == len(palabras_clave), \\\n",
    "    ##\"Las listas no tienen la misma longitud.\"\n",
    "\n",
    "# Crear el DataFrame\n",
    "df = pd.DataFrame({\n",
    "    \"cluster\": clusters,\n",
    "    \"cantidad_de_palabras_clave\": cantidad_palabras,\n",
    "    \"porcentaje_de_palabras_clave\": porcentajes,\n",
    "    \"principales_palabras_clave\": palabras_clave\n",
    "})\n",
    "def transformar_palabras_clave(palabras_clave):\n",
    "    # Reemplazar puntos y dividir por coma y espacio\n",
    "    palabras = palabras_clave.replace(\".\", \"\").replace(\"  \",\" \").replace(\"   \",\" \").strip().split(\", \")\n",
    "    \n",
    "    # Crear una lista con coma y espacio en todos los elementos excepto el último\n",
    "    palabras_con_coma = [el.strip() + \", \" for el in palabras[:-1]] + [palabras[-1]]  # Último elemento sin coma\n",
    "    \n",
    "    # Convertir la lista en una tupla\n",
    "    return (\"\".join((palabras_con_coma)).replace(\"  \",\" \"))\n",
    "\n",
    "# Aplicar la transformación a toda la columna\n",
    "df['principales_palabras_clave'] = df['principales_palabras_clave'].apply(transformar_palabras_clave)\n"
   ]
  },
  {
   "cell_type": "code",
   "execution_count": 268,
   "metadata": {},
   "outputs": [],
   "source": [
    "k = df.principales_palabras_clave.to_list()[0]"
   ]
  },
  {
   "cell_type": "code",
   "execution_count": 269,
   "metadata": {},
   "outputs": [
    {
     "data": {
      "text/plain": [
       "'maximum power point tracking, fuzzy-logic based control, photo voltaic (pv), photo-voltaic system, differential evolution algorithm, evolutionary algorithm, double-fed induction generator (dfig), ant colony optimisation, photo voltaic array, firefly algorithm, partial shade'"
      ]
     },
     "execution_count": 269,
     "metadata": {},
     "output_type": "execute_result"
    }
   ],
   "source": [
    "k"
   ]
  },
  {
   "cell_type": "code",
   "execution_count": 270,
   "metadata": {},
   "outputs": [
    {
     "data": {
      "text/plain": [
       "str"
      ]
     },
     "execution_count": 270,
     "metadata": {},
     "output_type": "execute_result"
    }
   ],
   "source": [
    "type(k)"
   ]
  },
  {
   "cell_type": "code",
   "execution_count": null,
   "metadata": {},
   "outputs": [],
   "source": [
    "x= (\n",
    "        \"maximum power point tracking, \"\n",
    "        \"fuzzy-logic based control, \"\n",
    "        \"photo voltaic (pv), \"\n",
    "        \"photo-voltaic system, \"\n",
    "        \"differential evolution algorithm, \"\n",
    "        \"evolutionary algorithm, \"\n",
    "        \"double-fed induction generator (dfig), \"\n",
    "        \"ant colony optimisation, \"\n",
    "        \"photo voltaic array, \"\n",
    "        \"firefly algorithm, \"\n",
    "        \"partial shade\"\n",
    "    )"
   ]
  },
  {
   "cell_type": "code",
   "execution_count": 272,
   "metadata": {},
   "outputs": [
    {
     "data": {
      "text/plain": [
       "True"
      ]
     },
     "execution_count": 272,
     "metadata": {},
     "output_type": "execute_result"
    }
   ],
   "source": [
    "k == x"
   ]
  },
  {
   "cell_type": "code",
   "execution_count": 273,
   "metadata": {},
   "outputs": [
    {
     "data": {
      "text/plain": [
       "False"
      ]
     },
     "execution_count": 273,
     "metadata": {},
     "output_type": "execute_result"
    }
   ],
   "source": [
    "k[:112]+k[113:] == x"
   ]
  },
  {
   "cell_type": "code",
   "execution_count": 274,
   "metadata": {},
   "outputs": [
    {
     "data": {
      "text/plain": [
       "str"
      ]
     },
     "execution_count": 274,
     "metadata": {},
     "output_type": "execute_result"
    }
   ],
   "source": [
    "type(x)"
   ]
  },
  {
   "cell_type": "code",
   "execution_count": 275,
   "metadata": {},
   "outputs": [],
   "source": [
    "from difflib import Differ\n",
    "\n",
    "def identificar_diferencias(cadena1, cadena2):\n",
    "    # Crear un objeto Differ para comparar las cadenas\n",
    "    d = Differ()\n",
    "    # Dividir las cadenas por palabras o caracteres\n",
    "    diferencia = list(d.compare(cadena1.split(), cadena2.split()))\n",
    "    # Imprimir las diferencias con formato\n",
    "    print(\"\\n\".join(diferencia))"
   ]
  },
  {
   "cell_type": "code",
   "execution_count": 276,
   "metadata": {},
   "outputs": [
    {
     "name": "stdout",
     "output_type": "stream",
     "text": [
      "  maximum\n",
      "  power\n",
      "  point\n",
      "  tracking,\n",
      "  fuzzy-logic\n",
      "  based\n",
      "  control,\n",
      "  photo\n",
      "  voltaic\n",
      "  (pv),\n",
      "  photo-voltaic\n",
      "  system,\n",
      "  differential\n",
      "  evolution\n",
      "  algorithm,\n",
      "  evolutionary\n",
      "  algorithm,\n",
      "  double-fed\n",
      "  induction\n",
      "  generator\n",
      "  (dfig),\n",
      "  ant\n",
      "  colony\n",
      "  optimisation,\n",
      "  photo\n",
      "  voltaic\n",
      "  array,\n",
      "  firefly\n",
      "  algorithm,\n",
      "  partial\n",
      "  shade\n"
     ]
    }
   ],
   "source": [
    "identificar_diferencias(x, k)"
   ]
  },
  {
   "cell_type": "code",
   "execution_count": 277,
   "metadata": {},
   "outputs": [
    {
     "name": "stdout",
     "output_type": "stream",
     "text": [
      "Número de diferencias: 158\n",
      "Posiciones de las diferencias: [112, 113, 114, 115, 116, 117, 118, 119, 120, 121, 122, 123, 124, 125, 126, 127, 128, 129, 130, 131, 132, 133, 134, 135, 136, 137, 138, 139, 140, 141, 142, 143, 144, 145, 146, 147, 148, 149, 150, 151, 152, 153, 154, 155, 156, 157, 158, 159, 160, 161, 162, 163, 164, 165, 166, 167, 168, 169, 170, 171, 172, 173, 174, 175, 176, 177, 178, 180, 181, 182, 183, 184, 185, 186, 187, 188, 189, 190, 191, 192, 193, 194, 195, 196, 197, 198, 199, 200, 202, 203, 204, 205, 206, 207, 208, 209, 211, 212, 213, 214, 215, 216, 217, 218, 219, 220, 221, 222, 224, 225, 226, 227, 228, 229, 230, 231, 232, 233, 234, 235, 236, 237, 238, 239, 240, 241, 242, 243, 244, 245, 246, 247, 248, 249, 250, 251, 252, 253, 254, 255, 256, 257, 258, 259, 260, 261, 262, 263, 264, 265, 266, 267, 268, 269, 270, 271, 272, 273]\n"
     ]
    }
   ],
   "source": [
    "def diferencias_con_posiciones(cadena1, cadena2):\n",
    "    # Asegurar que ambas cadenas tengan la misma longitud rellenando con espacios\n",
    "    max_len = max(len(cadena1), len(cadena2))\n",
    "    cadena1 = cadena1.ljust(max_len)\n",
    "    cadena2 = cadena2.ljust(max_len)\n",
    "\n",
    "    diferencias = []  # Lista para almacenar las posiciones de las diferencias\n",
    "    for i, (char1, char2) in enumerate(zip(cadena1, cadena2)):\n",
    "        if char1 != char2:\n",
    "            diferencias.append(i)\n",
    "\n",
    "    # Contar las diferencias\n",
    "    num_diferencias = len(diferencias)\n",
    "\n",
    "    return num_diferencias, diferencias\n",
    "\n",
    "\n",
    "num_diferencias, posiciones = diferencias_con_posiciones(k[:112]+k[113:122]+k[123:] , x)\n",
    "\n",
    "print(f\"Número de diferencias: {num_diferencias}\")\n",
    "print(f\"Posiciones de las diferencias: {posiciones}\")"
   ]
  },
  {
   "cell_type": "code",
   "execution_count": 278,
   "metadata": {},
   "outputs": [
    {
     "data": {
      "text/plain": [
       "'e'"
      ]
     },
     "execution_count": 278,
     "metadata": {},
     "output_type": "execute_result"
    }
   ],
   "source": [
    "k[112]"
   ]
  },
  {
   "cell_type": "code",
   "execution_count": 279,
   "metadata": {},
   "outputs": [
    {
     "data": {
      "text/plain": [
       "'a'"
      ]
     },
     "execution_count": 279,
     "metadata": {},
     "output_type": "execute_result"
    }
   ],
   "source": [
    "k[122]"
   ]
  },
  {
   "cell_type": "code",
   "execution_count": 280,
   "metadata": {},
   "outputs": [
    {
     "data": {
      "text/plain": [
       "'ifferential evolutio'"
      ]
     },
     "execution_count": 280,
     "metadata": {},
     "output_type": "execute_result"
    }
   ],
   "source": [
    "k[100:120]"
   ]
  },
  {
   "cell_type": "code",
   "execution_count": 281,
   "metadata": {},
   "outputs": [
    {
     "data": {
      "text/plain": [
       "'ifferential evolutio'"
      ]
     },
     "execution_count": 281,
     "metadata": {},
     "output_type": "execute_result"
    }
   ],
   "source": [
    "x[100:120]"
   ]
  },
  {
   "cell_type": "code",
   "execution_count": null,
   "metadata": {},
   "outputs": [],
   "source": [
    "u= \n",
    "        \"maximum power point tracking, \"\n",
    "        \"fuzzy-logic based control, \"\n",
    "        \"photo voltaic (pv), \"\n",
    "        \"photo-voltaic system, \"\n",
    "        \"differential evolution algorithm, \"\n",
    "        \"evolutionary algorithm, \"\n",
    "        \"double-fed induction generator (dfig), \"\n",
    "        \"ant colony optimisation, \"\n",
    "        \"photo voltaic array, \"\n",
    "        \"firefly algorithm, \"\n",
    "        \"partial shade\"\n",
    "    "
   ]
  }
 ],
 "metadata": {
  "kernelspec": {
   "display_name": ".venv",
   "language": "python",
   "name": "python3"
  },
  "language_info": {
   "codemirror_mode": {
    "name": "ipython",
    "version": 3
   },
   "file_extension": ".py",
   "mimetype": "text/x-python",
   "name": "python",
   "nbconvert_exporter": "python",
   "pygments_lexer": "ipython3",
   "version": "3.10.9"
  }
 },
 "nbformat": 4,
 "nbformat_minor": 2
}
